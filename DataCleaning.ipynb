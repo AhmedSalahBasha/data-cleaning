{
 "cells": [
  {
   "cell_type": "code",
   "execution_count": 1,
   "metadata": {
    "collapsed": true
   },
   "outputs": [],
   "source": [
    "#import required libraries\n",
    "import pandas as pd\n",
    "import requests\n",
    "import numpy as np"
   ]
  },
  {
   "cell_type": "code",
   "execution_count": 4,
   "metadata": {
    "collapsed": true
   },
   "outputs": [],
   "source": [
    "#Task1: All alphabetical characters in all columns should be capitalized.\n",
    "data = pd.read_csv('inputDB.csv')\n",
    "\n",
    "for i in data.columns: \n",
    "    if i not in ['DOB','POBox','POCityStateZip']:\n",
    "        data[i] = data[i].str.upper()"
   ]
  },
  {
   "cell_type": "code",
   "execution_count": 5,
   "metadata": {},
   "outputs": [
    {
     "data": {
      "text/html": [
       "<div>\n",
       "<style>\n",
       "    .dataframe thead tr:only-child th {\n",
       "        text-align: right;\n",
       "    }\n",
       "\n",
       "    .dataframe thead th {\n",
       "        text-align: left;\n",
       "    }\n",
       "\n",
       "    .dataframe tbody tr th {\n",
       "        vertical-align: top;\n",
       "    }\n",
       "</style>\n",
       "<table border=\"1\" class=\"dataframe\">\n",
       "  <thead>\n",
       "    <tr style=\"text-align: right;\">\n",
       "      <th></th>\n",
       "      <th>RecID</th>\n",
       "      <th>FirstName</th>\n",
       "      <th>MiddleName</th>\n",
       "      <th>LastName</th>\n",
       "      <th>Address</th>\n",
       "      <th>City</th>\n",
       "      <th>State</th>\n",
       "      <th>ZIP</th>\n",
       "      <th>POBox</th>\n",
       "      <th>POCityStateZip</th>\n",
       "      <th>SSN</th>\n",
       "      <th>DOB</th>\n",
       "    </tr>\n",
       "  </thead>\n",
       "  <tbody>\n",
       "    <tr>\n",
       "      <th>0</th>\n",
       "      <td>A904694</td>\n",
       "      <td>CHRISTINE</td>\n",
       "      <td>NaN</td>\n",
       "      <td>URIAS</td>\n",
       "      <td>5404 ROCKLAND DR</td>\n",
       "      <td>PEARLAND</td>\n",
       "      <td>TX</td>\n",
       "      <td>77584</td>\n",
       "      <td>NaN</td>\n",
       "      <td>NaN</td>\n",
       "      <td>166-91-0767</td>\n",
       "      <td>NaN</td>\n",
       "    </tr>\n",
       "    <tr>\n",
       "      <th>1</th>\n",
       "      <td>A904695</td>\n",
       "      <td>RICHARD</td>\n",
       "      <td>S</td>\n",
       "      <td>STOKES</td>\n",
       "      <td>2384 MOUNTAIN PINE RD</td>\n",
       "      <td>HOT</td>\n",
       "      <td>SPRINGS</td>\n",
       "      <td>AR 7191</td>\n",
       "      <td>NaN</td>\n",
       "      <td>NaN</td>\n",
       "      <td>NaN</td>\n",
       "      <td>04-12-72</td>\n",
       "    </tr>\n",
       "    <tr>\n",
       "      <th>2</th>\n",
       "      <td>A904696</td>\n",
       "      <td>MICHELLE</td>\n",
       "      <td>NaN</td>\n",
       "      <td>DAUGHTRY</td>\n",
       "      <td>2301 PLUMERIA LANE</td>\n",
       "      <td>PALMDALE</td>\n",
       "      <td>CA</td>\n",
       "      <td>93551</td>\n",
       "      <td>PO MBOX 901243</td>\n",
       "      <td>palmdale, ca 93590</td>\n",
       "      <td>086-71-1424</td>\n",
       "      <td>1956</td>\n",
       "    </tr>\n",
       "    <tr>\n",
       "      <th>3</th>\n",
       "      <td>A904697</td>\n",
       "      <td>A</td>\n",
       "      <td>NaN</td>\n",
       "      <td>GARFIO</td>\n",
       "      <td>1305 NORTH FOYD STR LOT 10</td>\n",
       "      <td>JONESBOROY</td>\n",
       "      <td>AR</td>\n",
       "      <td>72401</td>\n",
       "      <td>NaN</td>\n",
       "      <td>NaN</td>\n",
       "      <td>22542011</td>\n",
       "      <td>NaN</td>\n",
       "    </tr>\n",
       "    <tr>\n",
       "      <th>4</th>\n",
       "      <td>A904698</td>\n",
       "      <td>MIHCAEL</td>\n",
       "      <td>L</td>\n",
       "      <td>VALENCIA</td>\n",
       "      <td>3 HOPE DR</td>\n",
       "      <td>WATSONVILLE</td>\n",
       "      <td>CA</td>\n",
       "      <td>95076</td>\n",
       "      <td>P Box 1353</td>\n",
       "      <td>watsonvile, calif. 95077</td>\n",
       "      <td>157146562</td>\n",
       "      <td>NaN</td>\n",
       "    </tr>\n",
       "  </tbody>\n",
       "</table>\n",
       "</div>"
      ],
      "text/plain": [
       "     RecID  FirstName MiddleName  LastName                     Address  \\\n",
       "0  A904694  CHRISTINE        NaN     URIAS            5404 ROCKLAND DR   \n",
       "1  A904695    RICHARD          S    STOKES       2384 MOUNTAIN PINE RD   \n",
       "2  A904696   MICHELLE        NaN  DAUGHTRY          2301 PLUMERIA LANE   \n",
       "3  A904697          A        NaN    GARFIO  1305 NORTH FOYD STR LOT 10   \n",
       "4  A904698    MIHCAEL          L  VALENCIA                   3 HOPE DR   \n",
       "\n",
       "          City    State      ZIP           POBox            POCityStateZip  \\\n",
       "0     PEARLAND       TX    77584             NaN                       NaN   \n",
       "1          HOT  SPRINGS  AR 7191             NaN                       NaN   \n",
       "2     PALMDALE       CA    93551  PO MBOX 901243        palmdale, ca 93590   \n",
       "3   JONESBOROY       AR    72401             NaN                       NaN   \n",
       "4  WATSONVILLE       CA    95076      P Box 1353  watsonvile, calif. 95077   \n",
       "\n",
       "           SSN       DOB  \n",
       "0  166-91-0767       NaN  \n",
       "1          NaN  04-12-72  \n",
       "2  086-71-1424      1956  \n",
       "3     22542011       NaN  \n",
       "4    157146562       NaN  "
      ]
     },
     "execution_count": 5,
     "metadata": {},
     "output_type": "execute_result"
    }
   ],
   "source": [
    "data.head()"
   ]
  },
  {
   "cell_type": "code",
   "execution_count": null,
   "metadata": {
    "collapsed": true
   },
   "outputs": [],
   "source": []
  }
 ],
 "metadata": {
  "kernelspec": {
   "display_name": "Python 3",
   "language": "python",
   "name": "python3"
  },
  "language_info": {
   "codemirror_mode": {
    "name": "ipython",
    "version": 3
   },
   "file_extension": ".py",
   "mimetype": "text/x-python",
   "name": "python",
   "nbconvert_exporter": "python",
   "pygments_lexer": "ipython3",
   "version": "3.6.1"
  }
 },
 "nbformat": 4,
 "nbformat_minor": 2
}
